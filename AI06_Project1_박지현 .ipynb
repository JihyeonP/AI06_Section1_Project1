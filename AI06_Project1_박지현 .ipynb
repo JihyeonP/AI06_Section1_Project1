{
  "nbformat": 4,
  "nbformat_minor": 0,
  "metadata": {
    "colab": {
      "name": "AI06_Project1_박지현.ipynb",
      "private_outputs": true,
      "provenance": [],
      "collapsed_sections": []
    },
    "kernelspec": {
      "name": "python3",
      "display_name": "Python 3"
    },
    "language_info": {
      "name": "python"
    }
  },
  "cells": [
    {
      "cell_type": "code",
      "metadata": {
        "id": "-5tghdATs4Nk"
      },
      "source": [
        "import pandas as pd\n",
        "import numpy as np\n",
        "import seaborn as sns \n",
        "\n",
        "from google.colab import drive \n",
        "drive.mount('/content/drive')\n",
        "# df로 불러옵니다"
      ],
      "execution_count": null,
      "outputs": []
    },
    {
      "cell_type": "code",
      "metadata": {
        "id": "Sv1Afh8stxHi"
      },
      "source": [
        "df = pd.read_csv('/content/drive/My Drive/AI bootcamp/Project1/vgames2.csv')"
      ],
      "execution_count": null,
      "outputs": []
    },
    {
      "cell_type": "code",
      "metadata": {
        "id": "8KdB7yYC1T3R"
      },
      "source": [
        "#df['Total_Sales'] = df['NA_Sales'] + df['EU_Sales'] + df['JP_Sales'] + df['Other_Sales']\n",
        "#np.round(df, decimals=3)\n",
        "df.set_index('Unnamed: 0', inplace=True)\n",
        "df"
      ],
      "execution_count": null,
      "outputs": []
    },
    {
      "cell_type": "code",
      "metadata": {
        "id": "DJCU0P4MLSqf"
      },
      "source": [
        "# 일부 데이터 단위 변환. \n",
        "df['NA_Sales'] = df['NA_Sales'].replace({'K': '*0.001', 'M': '*1'}, regex=True).map(pd.eval)\n",
        "df['EU_Sales'] = df['EU_Sales'].replace({'K': '*0.001', 'M': '*1'}, regex=True).map(pd.eval)\n",
        "df['JP_Sales'] = df['JP_Sales'].replace({'K': '*0.001', 'M': '*1'}, regex=True).map(pd.eval)\n",
        "df['Other_Sales'] = df['Other_Sales'].replace({'K': '*0.001', 'M': '*1'}, regex=True).map(pd.eval)"
      ],
      "execution_count": null,
      "outputs": []
    },
    {
      "cell_type": "code",
      "metadata": {
        "id": "BiJ9yIgWMf2p"
      },
      "source": [
        "df"
      ],
      "execution_count": null,
      "outputs": []
    },
    {
      "cell_type": "code",
      "metadata": {
        "id": "7SEcr1yPPkT7"
      },
      "source": [
        "# Sales 데이터 타입 string에서 float로 변환 \n",
        "\n",
        "df[\"NA_Sales\"] = pd.to_numeric(df[\"NA_Sales\"])\n",
        "df[\"EU_Sales\"] = pd.to_numeric(df[\"EU_Sales\"])\n",
        "df[\"JP_Sales\"] = pd.to_numeric(df[\"JP_Sales\"])\n",
        "df[\"Other_Sales\"] = pd.to_numeric(df[\"Other_Sales\"])\n",
        "\n"
      ],
      "execution_count": null,
      "outputs": []
    },
    {
      "cell_type": "code",
      "metadata": {
        "id": "Cww4SkcFLeLr"
      },
      "source": [
        "df"
      ],
      "execution_count": null,
      "outputs": []
    },
    {
      "cell_type": "code",
      "metadata": {
        "id": "UbPLd7s4yZuJ"
      },
      "source": [
        "df.info()"
      ],
      "execution_count": null,
      "outputs": []
    },
    {
      "cell_type": "code",
      "metadata": {
        "id": "7Ue5M8RKh-WP"
      },
      "source": [
        "# 총 판매액 계산 \n",
        "\n",
        "df['Total_Sales'] = df['NA_Sales'] + df['EU_Sales'] + df['JP_Sales'] + df['Other_Sales']\n",
        "df"
      ],
      "execution_count": null,
      "outputs": []
    },
    {
      "cell_type": "code",
      "metadata": {
        "id": "Nl1FBaLAuIDb"
      },
      "source": [
        "df.describe()"
      ],
      "execution_count": null,
      "outputs": []
    },
    {
      "cell_type": "code",
      "metadata": {
        "id": "ydvlqIIStL8e"
      },
      "source": [
        "# 연도에서 이상치 제거 \n",
        "df = df[df.Year > 1000]"
      ],
      "execution_count": null,
      "outputs": []
    },
    {
      "cell_type": "code",
      "metadata": {
        "id": "QkopJLlmz0Mj"
      },
      "source": [
        "# 결측치가 있는 행 확인 \n",
        "df.isna().any()"
      ],
      "execution_count": null,
      "outputs": []
    },
    {
      "cell_type": "code",
      "metadata": {
        "id": "KMnyVrAlyaA2"
      },
      "source": [
        "# 결측치의 수 확인 \n",
        "df.isnull().sum()"
      ],
      "execution_count": null,
      "outputs": []
    },
    {
      "cell_type": "code",
      "metadata": {
        "id": "L3PRF-Z60tiy"
      },
      "source": [
        "# 결측치가 있는 행 확인하기 \n",
        "df[df['Year'].isnull()]"
      ],
      "execution_count": null,
      "outputs": []
    },
    {
      "cell_type": "code",
      "metadata": {
        "id": "05WZjJg7ZH8Q"
      },
      "source": [
        "df.duplicated().sum() # 중복된 행 갯수 확인 : 1개\n",
        "df.drop_duplicates(inplace = True) # 중복된 행 하나만 남기고 삭제 "
      ],
      "execution_count": null,
      "outputs": []
    },
    {
      "cell_type": "code",
      "metadata": {
        "id": "49-3zvBr7Cui"
      },
      "source": [
        "# Total Sales 높은 순서대로 배열 \n",
        "df2 = df.sort_values(by='Total_Sales' ,ascending=False)\n",
        "df2 = df2.reset_index()\n",
        "df2"
      ],
      "execution_count": null,
      "outputs": []
    },
    {
      "cell_type": "code",
      "metadata": {
        "id": "0_aGr5M7XVED"
      },
      "source": [
        "pd.set_option('display.max_row', 12) # 화면에 표시되는 행 갯수 정하기 \n",
        "df3 = df2.iloc[:1000] # 상위 1000위까지만 뽑기 \n",
        "df3\n"
      ],
      "execution_count": null,
      "outputs": []
    },
    {
      "cell_type": "code",
      "metadata": {
        "id": "jfNdq2r0YVqU"
      },
      "source": [
        "df3.isnull().sum() # 상위 1000위까지의 결측치 갯수 확인. -> 상위 500위 내 연도는 4개, 장르는 3개의 결측치만이 확인됨. / 결측치는 제외하고 진행해도 무방할 것으로 보임. "
      ],
      "execution_count": null,
      "outputs": []
    },
    {
      "cell_type": "code",
      "metadata": {
        "id": "nxuQ_zRp2kwo"
      },
      "source": [
        "# 결측치가 있는 행 확인하기 \n",
        "df3[df3['Genre'].isnull()]"
      ],
      "execution_count": null,
      "outputs": []
    },
    {
      "cell_type": "code",
      "metadata": {
        "id": "vEVnMhIkerrX"
      },
      "source": [
        ""
      ],
      "execution_count": null,
      "outputs": []
    },
    {
      "cell_type": "code",
      "metadata": {
        "id": "hNZ7pl_9frMg"
      },
      "source": [
        "df3[df3['Year'].isnull()]\n",
        "df3[df3['Year'].isnull()]"
      ],
      "execution_count": null,
      "outputs": []
    },
    {
      "cell_type": "code",
      "metadata": {
        "id": "JS6B4Fkw4YF0"
      },
      "source": [
        "# 판매량 상위 1000위 내의 장르 결측치만 도메인 검색으로 값 대체. - 방법을 찾지 못함. \n",
        "# df.at[1972,'Genre'] = 'Role-Playing'  # Pokemon X/Pokemon Y\t\n",
        "# df['Genre']['1972'] = Role-Playing\n",
        "# 상위 1000위 내의 Year 결측치만 검색으로 대체. - 방법을 찾지 못함.  \n",
        "# print(df[695, 'Year'])\n",
        "# df.at[6950,'Year'] = 2004"
      ],
      "execution_count": null,
      "outputs": []
    },
    {
      "cell_type": "code",
      "metadata": {
        "id": "H8KLmMFtnC-2"
      },
      "source": [
        "df.dropna() # 결측치 일단 제외 \n",
        "df['Year'] = df['Year'].apply(int)"
      ],
      "execution_count": null,
      "outputs": []
    },
    {
      "cell_type": "code",
      "metadata": {
        "id": "b5Dpl81ZszfK"
      },
      "source": [
        "df3.describe()"
      ],
      "execution_count": null,
      "outputs": []
    },
    {
      "cell_type": "markdown",
      "metadata": {
        "id": "NBgS--4jNvw5"
      },
      "source": [
        "## 1. 지역에 따라서 선호하는 게임의 장르가 다를까? \n",
        "- 지역에 따른 게임 장르의 분포가 다른지? 카이 제곱 검정 실시. "
      ]
    },
    {
      "cell_type": "code",
      "metadata": {
        "id": "IERMBcAL3p1q"
      },
      "source": [
        "# 상위 500위 내 연도는 4개, 장르는 3개의 결측치만이 확인됨. / 결측치는 제외하고 진행해도 무방할 것으로 보임. "
      ],
      "execution_count": null,
      "outputs": []
    },
    {
      "cell_type": "code",
      "metadata": {
        "id": "oXtp3lU-N9EL"
      },
      "source": [
        "# 연도 상관없이 진행. \n",
        "# Genre & NA_Sales \n",
        "df_g_na = df.loc[:,['Genre','NA_Sales']]\n",
        "df_g_na = df_g_na.groupby(by=['Genre'], as_index=False).sum()\n",
        "df_g_na = df_g_na.sort_values(by='NA_Sales' ,ascending=False) # 높은 판매량 순서대로 장르 나열 \n",
        "\n",
        "df_g_na = df_g_na.reset_index()\n",
        "df_g_na.index = df_g_na.index + 1\n",
        "df_g_na = df_g_na.drop(['index'],axis=1)\n",
        "\n",
        "df_g_na['%'] = df_g_na.NA_Sales / df_g_na.NA_Sales.sum() *100 \n",
        "df_g_na = df_g_na.round(2)\n",
        "df_g_na"
      ],
      "execution_count": null,
      "outputs": []
    },
    {
      "cell_type": "code",
      "metadata": {
        "id": "pwowj_wT2nZH"
      },
      "source": [
        "from matplotlib import pyplot as plt \n"
      ],
      "execution_count": null,
      "outputs": []
    },
    {
      "cell_type": "code",
      "metadata": {
        "id": "CffN4mQ5rQpC"
      },
      "source": [
        "# Genre & EU_Sales \n",
        "df_g_eu = df.loc[:,['Genre','EU_Sales']]\n",
        "df_g_eu = df_g_eu.groupby(by=['Genre'], as_index=False).sum()\n",
        "df_g_eu = df_g_eu.sort_values(by='EU_Sales' ,ascending=False) # 높은 판매량 순서대로 장르 나열 \n",
        "\n",
        "df_g_eu = df_g_eu.reset_index()\n",
        "df_g_eu.index = df_g_eu.index + 1\n",
        "df_g_eu = df_g_eu.drop(['index'],axis=1)\n",
        "\n",
        "df_g_eu['%'] = df_g_eu.EU_Sales / df_g_eu.EU_Sales.sum() *100 \n",
        "df_g_eu = df_g_eu.round(2)\n",
        "df_g_eu"
      ],
      "execution_count": null,
      "outputs": []
    },
    {
      "cell_type": "code",
      "metadata": {
        "id": "D-b1xmm1sCiL"
      },
      "source": [
        "# Genre & JP_Sales \n",
        "df_g_jp = df.loc[:,['Genre','JP_Sales']]\n",
        "df_g_jp = df_g_jp.groupby(by=['Genre'], as_index=False).sum()\n",
        "df_g_jp = df_g_jp.sort_values(by='JP_Sales' ,ascending=False) # 높은 판매량 순서대로 장르 나열 \n",
        "\n",
        "df_g_jp = df_g_jp.reset_index() # 인덱스 새로 설정 \n",
        "df_g_jp.index = df_g_jp.index + 1 # 인덱스 1부터 시작 \n",
        "df_g_jp = df_g_jp.drop(['index'],axis=1) # 기존 인덱스 행 삭제 \n",
        "\n",
        "\n",
        "df_g_jp['%'] = df_g_jp.JP_Sales / df_g_jp.JP_Sales.sum() *100 # 퍼센트 표시 \n",
        "df_g_jp = df_g_jp.round(2) # 소수점 두번째자리까지 표시 \n",
        "df_g_jp"
      ],
      "execution_count": null,
      "outputs": []
    },
    {
      "cell_type": "code",
      "metadata": {
        "id": "go62aWBbrjhR"
      },
      "source": [
        "# Genre & Other_Sales\n",
        "df_g_ot = df.loc[:,['Genre','Other_Sales']]\n",
        "df_g_ot = df_g_ot.groupby(by=['Genre'], as_index=False).sum()\n",
        "df_g_ot = df_g_ot.sort_values(by='Other_Sales' ,ascending=False) # 높은 판매량 순서대로 장르 나열 \n",
        "\n",
        "df_g_ot = df_g_ot.reset_index()\n",
        "df_g_ot.index = df_g_ot.index + 1\n",
        "df_g_ot = df_g_ot.drop(['index'],axis=1)\n",
        "\n",
        "df_g_ot['%'] = df_g_ot.Other_Sales / df_g_ot.Other_Sales.sum() *100 \n",
        "df_g_ot = df_g_ot.round(2)\n",
        "df_g_ot"
      ],
      "execution_count": null,
      "outputs": []
    },
    {
      "cell_type": "code",
      "metadata": {
        "id": "XBy4PieEsXeD"
      },
      "source": [
        "df_genre_sales = df.loc[:,['Genre','NA_Sales','EU_Sales','JP_Sales','Other_Sales']]\n",
        "df_genre_sales = df_genre_sales.groupby(by=['Genre'], as_index=False).sum()\n",
        "df_genre_sales = df_genre_sales.set_index('Genre')\n",
        "df_genre_sales"
      ],
      "execution_count": null,
      "outputs": []
    },
    {
      "cell_type": "code",
      "metadata": {
        "id": "HeQzmuwRttMl"
      },
      "source": [
        "import matplotlib.pyplot as plt\n",
        "figsize2 = [10,5]\n",
        "plt.figure(figsize=figsize2)\n",
        "ax = df_genre_sales.plot(kind='barh', stacked=True, rot=0, figsize=[20,7])\n",
        "#for p in ax.patches:\n",
        "#    left, bottom, width, height = p.get_bbox().bounds\n",
        "#    ax.annotate(\"%.1f\"%(width*100), xy=(left+width/2, bottom+height/2), ha='center', va='center')\n",
        "plt.title('Genre & Sales', fontdict={'fontweight':'bold', 'fontsize':20})\n",
        "plt.xlabel('Dollars($M)', fontsize=15)\n",
        "plt.ylabel('Genre', fontsize=15)\n",
        "plt.box(False)\n",
        "\n",
        "plt.show()"
      ],
      "execution_count": null,
      "outputs": []
    },
    {
      "cell_type": "code",
      "metadata": {
        "id": "k-CvriKQ8KgG"
      },
      "source": [
        ""
      ],
      "execution_count": null,
      "outputs": []
    },
    {
      "cell_type": "code",
      "metadata": {
        "id": "05DJDDvow79P"
      },
      "source": [
        "from scipy.stats import chi2_contingency \n",
        "\n",
        "chi = chi2_contingency(df_genre_sales)\n",
        "chi\n",
        "# 연도 상관없이 판매량을 기준으로 봤을 때, 지역에 따라 선호하는 장르가 다르다. "
      ],
      "execution_count": null,
      "outputs": []
    },
    {
      "cell_type": "markdown",
      "metadata": {
        "id": "b4PsOlcoN-U3"
      },
      "source": [
        "## 2. 연도별 게임의 트렌드가 있을까? \n",
        "- 트렌드는 어떻게 확인? 상위 판매 개별 게임 OR 상위 판매 게임 장르 // 연도별 상위 판매된 게임 장르? \n",
        "- 2000년대 이후만 확인? ( 7세대 이후만 확인 - 엑스박스, Wii/닌텐도 ds, 플레이스테이션 -> 현재까지 주된 경쟁사로 남아있는 3사의 기기들이 모두 포함되며, 이 시기부터 기술적으로 발전된 형태를 보임. Wii의 경우, 움직임을 감지하는 센서와 연동되는 컨트롤러를 선보임. ) "
      ]
    },
    {
      "cell_type": "code",
      "metadata": {
        "id": "bMW-SUq0wH2q"
      },
      "source": [
        "# 연도별 콘솔 시장 전체 규모 변화 \n",
        "df_year_sales = df.loc[:,['Year','NA_Sales','EU_Sales','JP_Sales','Other_Sales','Total_Sales']]\n",
        "df_year_sales = df_year_sales .groupby(by=['Year'], as_index=False).sum()\n",
        "df_year_sales = df_year_sales .set_index('Year')\n",
        "df_year_sales \n"
      ],
      "execution_count": null,
      "outputs": []
    },
    {
      "cell_type": "code",
      "metadata": {
        "id": "4k79x_SHxALi"
      },
      "source": [
        "dfpl = df_year_sales.plot(kind='bar', title=\"Sales per Years\", figsize=(30,10))"
      ],
      "execution_count": null,
      "outputs": []
    },
    {
      "cell_type": "code",
      "metadata": {
        "id": "ZAlcSV4Z5PKb"
      },
      "source": [
        "df_year = df = df[df.Year < 2017]\n",
        "df_year = df.groupby('Year').sum().reset_index(drop=False)\n",
        "\n",
        "figsize = [20, 7]\n",
        "x = df_year['Year']\n",
        "y = df_year['Total_Sales']\n",
        "width = 0.8\n",
        "color = 'indigo'\n",
        "\n",
        "plt.figure(figsize = figsize)\n",
        "bars = plt.bar(x,y,width=width, color=color)\n",
        "\n",
        "plt.title('Global Sales per Year', fontdict={'fontweight':'bold', 'fontsize':20})\n",
        "plt.xlabel('Year', fontdict={'fontsize':18, 'fontweight':'bold'})\n",
        "plt.ylabel('Dollars ($M)', fontdict={'fontsize':18, 'fontweight':'bold'})\n",
        "plt.xticks(df_year['Year'], rotation = 90)"
      ],
      "execution_count": null,
      "outputs": []
    },
    {
      "cell_type": "code",
      "metadata": {
        "id": "8NY1u-ycPcTN"
      },
      "source": [
        "# 장르=트렌드 확인 \n",
        "# df_genre_year = df.loc[:,['Genre','Year']]\n",
        "# df_genre_year = df_genre_year.groupby(by=['Genre'], as_index=False).sum()\n",
        "# df_genre_year = df_genre_year.set_index('Genre')\n",
        "# df_genre_year"
      ],
      "execution_count": null,
      "outputs": []
    },
    {
      "cell_type": "code",
      "metadata": {
        "id": "5pruS60IF3AD"
      },
      "source": [
        "# 연도별 데이터 재할당 \n",
        "df6 = df\n",
        "\n",
        "conditionlist = [\n",
        "    (df6['Year'] >= 2010) ,\n",
        "    (df6['Year'] >= 2000) & (df6['Year'] < 2010),\n",
        "    (df6['Year'] >= 1990) & (df6['Year'] < 2000),\n",
        "    (df6['Year'] < 1990)]\n",
        "choicelist = ['2010s', '2000s', '1990s', '1980s']\n",
        "df6['Ages'] = np.select(conditionlist, choicelist, default='Not Specified')\n",
        "\n",
        "#df6['Ages'] = [\"1980s\" if 1980 <= s <1990, \"1990s\", if 1990 <= s < 2000, \"2000s\" if 2000 <= s < 2010, \"2010s\" if 2010 <= s < 2017 else \"Other\" for s in df6['Year']]\n",
        "\n",
        "# 참조 : df['Status'] = [\"Senior\" if s >=400 else \"Junior\" for s in df['Salary']] \n",
        "df6"
      ],
      "execution_count": null,
      "outputs": []
    },
    {
      "cell_type": "code",
      "metadata": {
        "id": "FVjQa69GKYZ1"
      },
      "source": [
        "\n",
        "#df6_ages_genre = df6.loc[:,['Genre','Ages']]\n",
        "df6 = df6.groupby(by=['Ages'], as_index=False).sum()\n",
        "\n",
        "#df_g_na = df_g_na.reset_index()\n",
        "#df_g_na.index = df_g_na.index + 1\n",
        "#df_g_na = df_g_na.drop(['index'],axis=1)\n",
        "\n",
        "#df_g_na['%'] = df_g_na.NA_Sales / df_g_na.NA_Sales.sum() *100 \n",
        "#df_g_na = df_g_na.round(2)\n",
        "#df_g_na\n",
        "df6"
      ],
      "execution_count": null,
      "outputs": []
    },
    {
      "cell_type": "code",
      "metadata": {
        "id": "v3lNjHdGNG0v"
      },
      "source": [
        "sns.barplot(x='Ages', y='Total_Sales', data=df6)"
      ],
      "execution_count": null,
      "outputs": []
    },
    {
      "cell_type": "code",
      "metadata": {
        "id": "d6rCNtnnOVQu"
      },
      "source": [
        "# 2000년도 이후 연도별 게임의 장르. \n",
        "df7 = df[df.Year >= 2000]\n",
        "pp_crosstab = pd.crosstab(index=df7[\"Year\"], columns=df7[\"Genre\"])\n",
        "df8 = pp_crosstab\n",
        "df8.plot(figsize=[20,12])\n",
        "\n"
      ],
      "execution_count": null,
      "outputs": []
    },
    {
      "cell_type": "code",
      "metadata": {
        "id": "tE1XPbfRUymj"
      },
      "source": [
        "import scipy.stats as stats\n",
        "stats.chi2_contingency(observed = df8)\n",
        "# 연도와 장르는 통계적으로 유의한 관련성이 있는 것으로 나타남. "
      ],
      "execution_count": null,
      "outputs": []
    },
    {
      "cell_type": "markdown",
      "metadata": {
        "id": "aiyLwvzqPcmY"
      },
      "source": [
        "## 3. 출고량이 높은 게임에 대한 분석 및 시각화 프로세스 \n"
      ]
    },
    {
      "cell_type": "code",
      "metadata": {
        "id": "hcZ7d_b9Ph08"
      },
      "source": [
        "# 전체년도 출고량 순 게임 정렬\n",
        "df2\n",
        "\n",
        "df10 = df2.iloc[:100] # 상위 100위만 확인 \n",
        "df10"
      ],
      "execution_count": null,
      "outputs": []
    },
    {
      "cell_type": "code",
      "metadata": {
        "id": "cr4fo_Cga-kf"
      },
      "source": [
        "# 2000년대 이후 출고량 순 게임 정렬 \n",
        "df11 = df7.sort_values(by='Total_Sales', ascending=False)\n",
        "df11 = df11.reset_index()\n",
        "df11\n",
        "\n",
        "df11 = df11.iloc[:100] # 상위 100위만 확인 \n",
        "\n"
      ],
      "execution_count": null,
      "outputs": []
    },
    {
      "cell_type": "code",
      "metadata": {
        "id": "_JKVFOaGY3CP"
      },
      "source": [
        "df11_p = df11['Genre'].value_counts()\n",
        "df11_p"
      ],
      "execution_count": null,
      "outputs": []
    },
    {
      "cell_type": "code",
      "metadata": {
        "id": "MEManXewZsLk"
      },
      "source": [
        "# 2000년이후 상위 100위 게임 장르별 총 출고량 순위 \n",
        "df11_genre = df11[['Genre', 'NA_Sales', 'EU_Sales', 'JP_Sales','Other_Sales','Total_Sales']]\n",
        "df11_genre = df11_genre.groupby('Genre').sum().sort_values('Total_Sales', ascending=False).reset_index(drop=False).head(10)\n",
        "df11_genre"
      ],
      "execution_count": null,
      "outputs": []
    },
    {
      "cell_type": "code",
      "metadata": {
        "id": "FIWVIAYCbVGW"
      },
      "source": [
        "figsize = [20, 7]\n",
        "x1 = df11_genre['Genre']\n",
        "y1 = df11_genre['Total_Sales']\n",
        "width = 0.8\n",
        "color = 'tab:blue'\n",
        "\n",
        "plt.figure(figsize = figsize)\n",
        "bars = plt.bar(x1,y1,width=width, color=color)\n",
        "\n",
        "plt.title('Global sales by genre since 2000', fontdict={'fontweight':'bold', 'fontsize':20})\n",
        "plt.xlabel('Genre', fontdict={'fontsize':18, 'fontweight':'bold'})\n",
        "plt.ylabel('Dollars ($M)', fontdict={'fontsize':18, 'fontweight':'bold'})\n",
        "plt.xticks(df11_genre['Genre'], rotation = 60)"
      ],
      "execution_count": null,
      "outputs": []
    },
    {
      "cell_type": "code",
      "metadata": {
        "id": "fxTTKwpJcUr7"
      },
      "source": [
        "figsize = [20, 7]\n",
        "x2 = df11_genre['Genre']\n",
        "y2a = df11_genre['Total_Sales']\n",
        "y2b = df11_p\n",
        "width = 0.8\n",
        "color = 'indigo'\n",
        "color1 = 'plum'\n",
        "\n",
        "fig, ax1 = plt.subplots()\n",
        "ax1.set_xlabel('Genre')\n",
        "ax1.set_ylabel('Dollars ($M)', color=color)\n",
        "ax1.plot(x2, y2a, color=color)\n",
        "ax1.tick_params(axis='y', labelcolor=color)\n",
        "\n",
        "ax2 = ax1.twinx()  \n",
        "ax2.set_ylabel('Number of games', color=color1)  \n",
        "ax2.plot(x2, y2b, color=color1)\n",
        "ax2.tick_params(axis='y', labelcolor=color1)\n",
        "\n",
        "fig.tight_layout()\n",
        "plt.show()\n"
      ],
      "execution_count": null,
      "outputs": []
    },
    {
      "cell_type": "code",
      "metadata": {
        "id": "NA7J8UuDe81u"
      },
      "source": [
        "\n",
        "fig, ax1 = plt.subplots(figsize=(10,5))\n",
        "color = 'tab:green'\n",
        "\n",
        "ax1.set_title('[Top100] Global Sales and Number of games by genre since 2000', fontsize=16)\n",
        "ax1.set_xlabel('Genre', fontsize=16)\n",
        "ax1.set_ylabel('Dollars ($M)', fontsize=16)\n",
        "ax1 = sns.barplot(x='Genre', y='Total_Sales', data = df11_genre, palette='summer')\n",
        "ax1.tick_params(axis='y')\n",
        "\n",
        "ax2 = ax1.twinx()\n",
        "color = 'tab:red'\n",
        "\n",
        "ax2.set_ylabel('Number of games', fontsize=16)\n",
        "ax2 = sns.lineplot(data=df11_p, sort=False, color=color)\n",
        "ax2.tick_params(axis='y', color=color)\n",
        "\n",
        "plt.show()\n",
        "# x=x2, y=y2b,"
      ],
      "execution_count": null,
      "outputs": []
    },
    {
      "cell_type": "code",
      "metadata": {
        "id": "sRQtKHU8ixmB"
      },
      "source": [
        "pd.set_option('display.max_row', 100)\n",
        "df11"
      ],
      "execution_count": null,
      "outputs": []
    },
    {
      "cell_type": "code",
      "metadata": {
        "id": "p_ucsit9jn5G"
      },
      "source": [
        "df11.to_excel('top 100 games since 2000.xlsx')"
      ],
      "execution_count": null,
      "outputs": []
    },
    {
      "cell_type": "code",
      "metadata": {
        "id": "POwoc_3fl-xa"
      },
      "source": [
        "Total = df11['Total_Sales'].sum()\n",
        "Total"
      ],
      "execution_count": null,
      "outputs": []
    },
    {
      "cell_type": "code",
      "metadata": {
        "id": "LaHbLdN4kjM9"
      },
      "source": [
        "df11_callofduty = df11[df11['Name'].str.contains('Call of Duty')] # 2000년 이후 전체 출고량 top 100위 게임 중  CALL OF DUTY 시리즈 \n",
        "df11_callofduty"
      ],
      "execution_count": null,
      "outputs": []
    },
    {
      "cell_type": "code",
      "metadata": {
        "id": "V6c2mRykk3Hy"
      },
      "source": [
        "Total_df11_callofduty = df11_callofduty['Total_Sales'].sum()\n",
        "Total_df11_callofduty\n"
      ],
      "execution_count": null,
      "outputs": []
    },
    {
      "cell_type": "code",
      "metadata": {
        "id": "yfwUGpi0l-Cg"
      },
      "source": [
        "df11_mariokart = df11[df11['Name'].str.contains('Mario Kart')] # 2000년 이후 전체 출고량 top 100위 게임 중  Mario Kart 시리즈 \n",
        "df11_mariokart"
      ],
      "execution_count": null,
      "outputs": []
    },
    {
      "cell_type": "code",
      "metadata": {
        "id": "nkej0fMEmZeU"
      },
      "source": [
        "Total_df11_mariokart = df11_mariokart['Total_Sales'].sum()\n",
        "Total_df11_mariokart"
      ],
      "execution_count": null,
      "outputs": []
    },
    {
      "cell_type": "code",
      "metadata": {
        "id": "qrz43JTLmm4Y"
      },
      "source": [
        "df11_grandtheft = df11[df11['Name'].str.contains('Grand Theft')] # 2000년 이후 전체 출고량 top 100위 게임 중  Grand Theft 시리즈 \n",
        "df11_grandtheft "
      ],
      "execution_count": null,
      "outputs": []
    },
    {
      "cell_type": "code",
      "metadata": {
        "id": "7QTfHVCvm4ys"
      },
      "source": [
        "Total_df11_grandtheft = df11_grandtheft ['Total_Sales'].sum()\n",
        "Total_df11_grandtheft "
      ],
      "execution_count": null,
      "outputs": []
    },
    {
      "cell_type": "code",
      "metadata": {
        "id": "0t7HOFwfnEqa"
      },
      "source": [
        "df11_FIFA = df11[df11['Name'].str.contains('FIFA')] # 2000년 이후 전체 출고량 top 100위 게임 중 FIFA 시리즈 \n",
        "df11_FIFA"
      ],
      "execution_count": null,
      "outputs": []
    },
    {
      "cell_type": "code",
      "metadata": {
        "id": "eiwCZN2InLC0"
      },
      "source": [
        "Total_df11_FIFA = df11_FIFA ['Total_Sales'].sum()\n",
        "Total_df11_FIFA"
      ],
      "execution_count": null,
      "outputs": []
    },
    {
      "cell_type": "code",
      "metadata": {
        "id": "9pBXdVwOngXT"
      },
      "source": [
        "df11_Pokemon = df11[df11['Name'].str.contains('Pokemon')] # 2000년 이후 전체 출고량 top 100위 게임 중 Pokemon 시리즈 \n",
        "df11_Pokemon "
      ],
      "execution_count": null,
      "outputs": []
    },
    {
      "cell_type": "code",
      "metadata": {
        "id": "CX7yFfv7nnRj"
      },
      "source": [
        "Total_df11_Pokemon = df11_Pokemon ['Total_Sales'].sum()\n",
        "Total_df11_Pokemon"
      ],
      "execution_count": null,
      "outputs": []
    },
    {
      "cell_type": "code",
      "metadata": {
        "id": "uvQcE7seoIUS"
      },
      "source": [
        "df11_Wii = df11[df11['Name'].str.contains('Wii')] # 2000년 이후 전체 출고량 top 100위 게임 중 Wii 시리즈 \n",
        "df11_Wii"
      ],
      "execution_count": null,
      "outputs": []
    },
    {
      "cell_type": "code",
      "metadata": {
        "id": "HTx8-WSJo7pM"
      },
      "source": [
        "Total_df11_Wii = df11_Wii['Total_Sales'].sum()\n",
        "Total_df11_Wii"
      ],
      "execution_count": null,
      "outputs": []
    },
    {
      "cell_type": "code",
      "metadata": {
        "id": "oe48JfEOobaO"
      },
      "source": [
        "df11_Wiisports = df11[df11['Name'].str.contains('Wii Sports')] # 2000년 이후 전체 출고량 top 100위 게임 중 Wii sports 시리즈 \n",
        "df11_Wiisports\n"
      ],
      "execution_count": null,
      "outputs": []
    },
    {
      "cell_type": "code",
      "metadata": {
        "id": "9D4C8PcBo3vC"
      },
      "source": [
        "Total_df11_Wiisports= df11_Wiisports ['Total_Sales'].sum()\n",
        "Total_df11_Wiisports"
      ],
      "execution_count": null,
      "outputs": []
    },
    {
      "cell_type": "code",
      "metadata": {
        "id": "C3dZ0-zZxl4n"
      },
      "source": [
        "df11_nintendo = df11[df11['Publisher'].str.contains('Nintendo')] # 2000년 이후 전체 출고량 top 100위 게임 중 nintendo사 게임\n",
        "df11_nintendo\n"
      ],
      "execution_count": null,
      "outputs": []
    },
    {
      "cell_type": "code",
      "metadata": {
        "id": "tfaYs0Exx-Ap"
      },
      "source": [
        "Total_df11_nintendo= df11_nintendo ['Total_Sales'].sum()\n",
        "Total_df11_nintendo"
      ],
      "execution_count": null,
      "outputs": []
    }
  ]
}